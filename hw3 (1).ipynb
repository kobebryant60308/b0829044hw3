{
 "cells": [
  {
   "cell_type": "code",
   "execution_count": 59,
   "id": "89191294",
   "metadata": {},
   "outputs": [
    {
     "name": "stdout",
     "output_type": "stream",
     "text": [
      "tf.Tensor(\n",
      "[[1.]\n",
      " [1.]], shape=(2, 1), dtype=float32)\n",
      "tf.Tensor(\n",
      "[[0.]\n",
      " [0.]], shape=(2, 1), dtype=float32)\n"
     ]
    }
   ],
   "source": [
    "#Keras 和 TensorFlow 簡介\n",
    "#什麼是 TensorFlow？\n",
    "#什麼是 Keras？\n",
    "#Keras 和 TensorFlow：簡史\n",
    "#設置深度學習工作區\n",
    "#Jupyter notebooks：運行深度學習實驗的首選方式\n",
    "#與 Colaboratory 合作的第一步\n",
    "#使用 pip 安裝包\n",
    "#使用 GPU 運行時\n",
    "#TensorFlow 的第一步\n",
    "#常數張量和變量\n",
    "#全一或全零張量\n",
    "import tensorflow as tf\n",
    "x = tf.ones(shape=(2, 1))\n",
    "print(x)\n",
    "x = tf.zeros(shape=(2, 1))\n",
    "print(x)"
   ]
  },
  {
   "cell_type": "code",
   "execution_count": 60,
   "id": "687bfb38",
   "metadata": {},
   "outputs": [
    {
     "name": "stdout",
     "output_type": "stream",
     "text": [
      "tf.Tensor(\n",
      "[[ 0.03184165]\n",
      " [-0.51001096]\n",
      " [-1.9850477 ]], shape=(3, 1), dtype=float32)\n",
      "tf.Tensor(\n",
      "[[0.47240233]\n",
      " [0.31407   ]\n",
      " [0.97145915]], shape=(3, 1), dtype=float32)\n"
     ]
    }
   ],
   "source": [
    "x = tf.random.normal(shape=(3, 1), mean=0., stddev=1.)\n",
    "print(x)\n",
    "x = tf.random.uniform(shape=(3, 1), minval=0., maxval=1.)\n",
    "print(x)"
   ]
  },
  {
   "cell_type": "code",
   "execution_count": 61,
   "id": "d1b2f251",
   "metadata": {},
   "outputs": [],
   "source": [
    "import numpy as np\n",
    "x = np.ones(shape=(2, 2))\n",
    "x[0, 0] = 0."
   ]
  },
  {
   "cell_type": "code",
   "execution_count": 62,
   "id": "3fc0e76b",
   "metadata": {},
   "outputs": [
    {
     "name": "stdout",
     "output_type": "stream",
     "text": [
      "random tensor :\n",
      " <tf.Variable 'Variable:0' shape=(3, 1) dtype=float32, numpy=\n",
      "array([[-2.4059238],\n",
      "       [ 0.7763417],\n",
      "       [ 1.684273 ]], dtype=float32)>\n",
      "ones tensor :\n",
      " <tf.Variable 'Variable:0' shape=(3, 1) dtype=float32, numpy=\n",
      "array([[1.],\n",
      "       [1.],\n",
      "       [1.]], dtype=float32)>\n",
      "modify tensor[0,0]:\n",
      "<tf.Variable 'Variable:0' shape=(3, 1) dtype=float32, numpy=\n",
      "array([[3.],\n",
      "       [1.],\n",
      "       [1.]], dtype=float32)>\n",
      "add other tensor to v add(ones,v):\n",
      "<tf.Variable 'Variable:0' shape=(3, 1) dtype=float32, numpy=\n",
      "array([[4.],\n",
      "       [2.],\n",
      "       [2.]], dtype=float32)>\n"
     ]
    }
   ],
   "source": [
    "v = tf.Variable(initial_value=tf.random.normal(shape=(3, 1)))\n",
    "print(f'random tensor :\\n {v}')\n",
    "\n",
    "v.assign(tf.ones((3, 1)))\n",
    "print(f'ones tensor :\\n {v}')\n",
    "\n",
    "v[0, 0].assign(3.)\n",
    "print(f'modify tensor[0,0]:\\n{v}')\n",
    "\n",
    "v.assign_add(tf.ones((3, 1)))\n",
    "print(f'add other tensor to v add(ones,v):\\n{v}')"
   ]
  },
  {
   "cell_type": "code",
   "execution_count": 63,
   "id": "48dfe6a4",
   "metadata": {},
   "outputs": [
    {
     "name": "stdout",
     "output_type": "stream",
     "text": [
      "a:[[1. 1.]\n",
      " [1. 1.]]\n",
      " b:[[1. 1.]\n",
      " [1. 1.]]\n",
      "c:[[1. 1.]\n",
      " [1. 1.]]\n",
      "d:[[2. 2.]\n",
      " [2. 2.]]\n",
      "e:[[4. 4.]\n",
      " [4. 4.]]\n"
     ]
    }
   ],
   "source": [
    "a = tf.ones((2, 2))\n",
    "b = tf.square(a)\n",
    "c = tf.sqrt(a)\n",
    "d = b + c\n",
    "e = tf.matmul(a, b) # 矩陣相乘\n",
    "e *= 2 # 乘係數\n",
    "print(f'a:{a}\\n b:{b}\\nc:{c}\\nd:{d}\\ne:{e}')"
   ]
  },
  {
   "cell_type": "code",
   "execution_count": 64,
   "id": "cbdf2942",
   "metadata": {},
   "outputs": [
    {
     "name": "stdout",
     "output_type": "stream",
     "text": [
      "input:\n",
      "<tf.Variable 'Variable:0' shape=() dtype=float32, numpy=3.0>\n",
      " gradient:\n",
      "6.0\n"
     ]
    }
   ],
   "source": [
    "input_var = tf.Variable(initial_value=3.)\n",
    "with tf.GradientTape() as tape:\n",
    "    result = tf.square(input_var) \n",
    "# result = x^2\n",
    "gradient = tape.gradient(result, input_var)\n",
    "# 對 x^2微分 x=3帶入\n",
    "print(f'input:\\n{input_var}\\n gradient:\\n{gradient}')"
   ]
  },
  {
   "cell_type": "code",
   "execution_count": 65,
   "id": "9c2480e6",
   "metadata": {},
   "outputs": [
    {
     "data": {
      "text/plain": [
       "<tf.Tensor: shape=(), dtype=float32, numpy=6.0>"
      ]
     },
     "execution_count": 65,
     "metadata": {},
     "output_type": "execute_result"
    }
   ],
   "source": [
    "input_const = tf.constant(3.)\n",
    "with tf.GradientTape() as tape:\n",
    "   tape.watch(input_const)\n",
    "   result = tf.square(input_const)\n",
    "gradient = tape.gradient(result, input_const)\n",
    "gradient"
   ]
  },
  {
   "cell_type": "code",
   "execution_count": 66,
   "id": "c8d80d3a",
   "metadata": {},
   "outputs": [
    {
     "data": {
      "text/plain": [
       "(<tf.Tensor: shape=(), dtype=float32, numpy=19.6>,\n",
       " <tf.Tensor: shape=(), dtype=float32, numpy=9.8>)"
      ]
     },
     "execution_count": 66,
     "metadata": {},
     "output_type": "execute_result"
    }
   ],
   "source": [
    "time = tf.Variable(2.)\n",
    "with tf.GradientTape() as outer_tape:\n",
    "    with tf.GradientTape() as inner_tape:\n",
    "        position =  4.9 * time ** 2\n",
    "    speed = inner_tape.gradient(position, time) \n",
    "# x=2 4.9x\n",
    "acceleration = outer_tape.gradient(speed, time)\n",
    "# x=2 9.8\n",
    "speed,acceleration"
   ]
  },
  {
   "cell_type": "code",
   "execution_count": 67,
   "id": "fc1a804a",
   "metadata": {},
   "outputs": [
    {
     "data": {
      "text/plain": [
       "((1000, 2),\n",
       " array([[ 2.03792063,  3.41984745],\n",
       "        [ 0.17932214,  2.21659022],\n",
       "        [-0.35576891,  4.48015845],\n",
       "        ...,\n",
       "        [-0.24736632,  2.67996704],\n",
       "        [-0.94032728,  1.28988402],\n",
       "        [ 0.3083887 ,  4.33380885]]),\n",
       " array([[ 4.15712564, -0.09293483],\n",
       "        [ 1.40710681, -1.42842136],\n",
       "        [ 2.99439931, -1.54020591],\n",
       "        ...,\n",
       "        [ 3.51286603, -0.36363978],\n",
       "        [ 2.84603741, -0.07034978],\n",
       "        [ 3.39032863,  0.66330428]]))"
      ]
     },
     "execution_count": 67,
     "metadata": {},
     "output_type": "execute_result"
    }
   ],
   "source": [
    "num_samples_per_class = 1000\n",
    "negative_samples = np.random.multivariate_normal(\n",
    "    mean=[0, 3],\n",
    "    cov=[[1, 0.5],[0.5, 1]],\n",
    "    size=num_samples_per_class)\n",
    "positive_samples = np.random.multivariate_normal(\n",
    "    mean=[3, 0],\n",
    "    cov=[[1, 0.5],[0.5, 1]],\n",
    "    size=num_samples_per_class)\n",
    "negative_samples.shape,negative_samples,positive_samples"
   ]
  },
  {
   "cell_type": "code",
   "execution_count": 68,
   "id": "33ad5c2c",
   "metadata": {},
   "outputs": [
    {
     "name": "stdout",
     "output_type": "stream",
     "text": [
      "input size:(2000, 2)\n",
      "input data:[[ 2.0379207   3.4198475 ]\n",
      " [ 0.17932214  2.2165902 ]\n",
      " [-0.35576892  4.4801583 ]\n",
      " ...\n",
      " [ 3.512866   -0.36363977]\n",
      " [ 2.8460374  -0.07034978]\n",
      " [ 3.3903286   0.66330427]]\n",
      "\n",
      "[[0.]\n",
      " [0.]\n",
      " [0.]\n",
      " ...\n",
      " [1.]\n",
      " [1.]\n",
      " [1.]]\n"
     ]
    }
   ],
   "source": [
    "inputs = np.vstack((negative_samples, positive_samples)).astype(np.float32)\n",
    "print(f'input size:{inputs.shape}\\ninput data:{inputs}\\n')\n",
    "targets = np.vstack((np.zeros((num_samples_per_class, 1), dtype=\"float32\"),\n",
    "                     np.ones((num_samples_per_class, 1), dtype=\"float32\")))\n",
    "print(targets)"
   ]
  },
  {
   "cell_type": "code",
   "execution_count": 69,
   "id": "45fbc575",
   "metadata": {},
   "outputs": [
    {
     "data": {
      "image/png": "[encoded data removed]",
      "text/plain": [
       "<Figure size 432x288 with 1 Axes>"
      ]
     },
     "metadata": {
      "needs_background": "light"
     },
     "output_type": "display_data"
    }
   ],
   "source": [
    "import matplotlib.pyplot as plt\n",
    "plt.scatter(inputs[:, 0], inputs[:, 1], c=targets[:, 0])\n",
    "plt.show()\n",
    "# inputs[:,0] --> col=0 的所有row \n",
    "# inputs[:,1] --> col=1 的所有row\n",
    "# c=targets[:, 0] 兩個顏色 c=color"
   ]
  },
  {
   "cell_type": "code",
   "execution_count": 70,
   "id": "b3962bde",
   "metadata": {},
   "outputs": [
    {
     "data": {
      "text/plain": [
       "(TensorShape([1]), TensorShape([2, 1]))"
      ]
     },
     "execution_count": 70,
     "metadata": {},
     "output_type": "execute_result"
    }
   ],
   "source": [
    "\n",
    "input_dim = 2\n",
    "output_dim = 1\n",
    "W = tf.Variable(initial_value=tf.random.uniform(shape=(input_dim, output_dim)))\n",
    "b = tf.Variable(initial_value=tf.zeros(shape=(output_dim,)))\n",
    "c = tf.Variable(initial_value=tf.zeros(shape=(output_dim)))\n",
    "b.shape,W.shape"
   ]
  },
  {
   "cell_type": "code",
   "execution_count": 71,
   "id": "eb424fe2",
   "metadata": {},
   "outputs": [],
   "source": [
    "\n",
    "def model(inputs):\n",
    "    return tf.matmul(inputs, W) + b\n",
    "\n",
    "def square_loss(targets, predictions):\n",
    "    per_sample_losses = tf.square(targets - predictions)\n",
    "    return tf.reduce_mean(per_sample_losses)\n",
    "\n",
    "learning_rate = 0.1\n",
    "\n",
    "def training_step(inputs, targets):\n",
    "    with tf.GradientTape() as tape:\n",
    "        predictions = model(inputs)\n",
    "        loss = square_loss(targets, predictions)\n",
    "    grad_loss_wrt_W, grad_loss_wrt_b = tape.gradient(loss, [W, b])\n",
    "    W.assign_sub(grad_loss_wrt_W * learning_rate)\n",
    "    b.assign_sub(grad_loss_wrt_b * learning_rate)\n",
    "    return loss\n"
   ]
  },
  {
   "cell_type": "code",
   "execution_count": 72,
   "id": "bad023fc",
   "metadata": {},
   "outputs": [
    {
     "name": "stdout",
     "output_type": "stream",
     "text": [
      "Loss at step 0: 2.6833\n",
      "Loss at step 1: 0.4354\n",
      "Loss at step 2: 0.1652\n",
      "Loss at step 3: 0.1258\n",
      "Loss at step 4: 0.1139\n",
      "Loss at step 5: 0.1059\n",
      "Loss at step 6: 0.0989\n",
      "Loss at step 7: 0.0925\n",
      "Loss at step 8: 0.0867\n",
      "Loss at step 9: 0.0814\n",
      "Loss at step 10: 0.0766\n",
      "Loss at step 11: 0.0721\n",
      "Loss at step 12: 0.0681\n",
      "Loss at step 13: 0.0644\n",
      "Loss at step 14: 0.0610\n",
      "Loss at step 15: 0.0579\n",
      "Loss at step 16: 0.0551\n",
      "Loss at step 17: 0.0525\n",
      "Loss at step 18: 0.0502\n",
      "Loss at step 19: 0.0480\n",
      "Loss at step 20: 0.0461\n",
      "Loss at step 21: 0.0443\n",
      "Loss at step 22: 0.0426\n",
      "Loss at step 23: 0.0411\n",
      "Loss at step 24: 0.0398\n",
      "Loss at step 25: 0.0385\n",
      "Loss at step 26: 0.0374\n",
      "Loss at step 27: 0.0363\n",
      "Loss at step 28: 0.0354\n",
      "Loss at step 29: 0.0345\n",
      "Loss at step 30: 0.0337\n",
      "Loss at step 31: 0.0330\n",
      "Loss at step 32: 0.0323\n",
      "Loss at step 33: 0.0317\n",
      "Loss at step 34: 0.0311\n",
      "Loss at step 35: 0.0306\n",
      "Loss at step 36: 0.0302\n",
      "Loss at step 37: 0.0297\n",
      "Loss at step 38: 0.0294\n",
      "Loss at step 39: 0.0290\n"
     ]
    },
    {
     "data": {
      "image/png": "[encoded data removed]",
      "text/plain": [
       "<Figure size 432x288 with 1 Axes>"
      ]
     },
     "metadata": {
      "needs_background": "light"
     },
     "output_type": "display_data"
    }
   ],
   "source": [
    "for step in range(40):\n",
    "    loss = training_step(inputs, targets)\n",
    "    print(f\"Loss at step {step}: {loss:.4f}\")\n",
    "\n",
    "predictions = model(inputs)\n",
    "plt.scatter(inputs[:, 0], inputs[:, 1], c=predictions[:, 0] > 0.5)\n",
    "plt.show()"
   ]
  },
  {
   "cell_type": "code",
   "execution_count": 73,
   "id": "dab9a5ee",
   "metadata": {
    "scrolled": true
   },
   "outputs": [
    {
     "data": {
      "text/plain": [
       "<matplotlib.collections.PathCollection at 0x187943fd820>"
      ]
     },
     "execution_count": 73,
     "metadata": {},
     "output_type": "execute_result"
    },
    {
     "data": {
      "image/png": "[encoded data removed]",
      "text/plain": [
       "<Figure size 432x288 with 1 Axes>"
      ]
     },
     "metadata": {
      "needs_background": "light"
     },
     "output_type": "display_data"
    }
   ],
   "source": [
    "x = np.linspace(-1, 4, 100)\n",
    "y = - W[0] /  W[1] * x + (0.5 - b) / W[1]\n",
    "plt.plot(x, y, \"-r\")\n",
    "plt.scatter(inputs[:, 0], inputs[:, 1], c=predictions[:, 0] > 0.5)"
   ]
  },
  {
   "cell_type": "code",
   "execution_count": 74,
   "id": "73059fbf",
   "metadata": {},
   "outputs": [],
   "source": [
    "from tensorflow import keras\n",
    "\n",
    "class SimpleDense(keras.layers.Layer):\n",
    "\n",
    "    def __init__(self, units, activation=None):\n",
    "        super().__init__()\n",
    "        self.units = units\n",
    "        self.activation = activation\n",
    "\n",
    "    def build(self, input_shape):\n",
    "        input_dim = input_shape[-1]\n",
    "        self.W = self.add_weight(shape=(input_dim, self.units),\n",
    "                                 initializer=\"random_normal\")\n",
    "        self.b = self.add_weight(shape=(self.units,),\n",
    "                                 initializer=\"zeros\")\n",
    "\n",
    "    def call(self, inputs):\n",
    "        y = tf.matmul(inputs, self.W) + self.b\n",
    "        if self.activation is not None:\n",
    "            y = self.activation(y)\n",
    "        return y"
   ]
  },
  {
   "cell_type": "code",
   "execution_count": null,
   "id": "f5735170",
   "metadata": {},
   "outputs": [],
   "source": []
  },
  {
   "cell_type": "code",
   "execution_count": 75,
   "id": "26605d66",
   "metadata": {},
   "outputs": [
    {
     "name": "stdout",
     "output_type": "stream",
     "text": [
      "(2, 32)\n"
     ]
    }
   ],
   "source": [
    "my_dense = SimpleDense(units=32, activation=tf.nn.relu)\n",
    "input_tensor = tf.ones(shape=(2, 784))\n",
    "output_tensor = my_dense(input_tensor)\n",
    "print(output_tensor.shape)"
   ]
  },
  {
   "cell_type": "code",
   "execution_count": 76,
   "id": "b932cbee",
   "metadata": {},
   "outputs": [],
   "source": [
    "from tensorflow.keras import layers\n",
    "layer = layers.Dense(32, activation=\"relu\")\n",
    "from tensorflow.keras import models\n",
    "from tensorflow.keras import layers\n",
    "model = models.Sequential([\n",
    "    layers.Dense(32, activation=\"relu\"),\n",
    "    layers.Dense(32)\n",
    "])\n",
    "\n",
    "model = keras.Sequential([\n",
    "    SimpleDense(32, activation=\"relu\"),\n",
    "    SimpleDense(64, activation=\"relu\"),\n",
    "    SimpleDense(32, activation=\"relu\"),\n",
    "    SimpleDense(10, activation=\"softmax\")\n",
    "])"
   ]
  },
  {
   "cell_type": "code",
   "execution_count": 77,
   "id": "d985bbcf",
   "metadata": {},
   "outputs": [],
   "source": [
    "model = keras.Sequential([keras.layers.Dense(1)])\n"
   ]
  },
  {
   "cell_type": "code",
   "execution_count": 78,
   "id": "ad430f3d",
   "metadata": {},
   "outputs": [],
   "source": [
    "model.compile(optimizer=\"rmsprop\",\n",
    "              loss=\"mean_squared_error\",\n",
    "              metrics=[\"accuracy\"])"
   ]
  },
  {
   "cell_type": "code",
   "execution_count": 79,
   "id": "7a6bc756",
   "metadata": {},
   "outputs": [],
   "source": [
    "\n",
    "model.compile(optimizer=keras.optimizers.RMSprop(),\n",
    "              loss=keras.losses.MeanSquaredError(),\n",
    "              metrics=[keras.metrics.BinaryAccuracy()])"
   ]
  },
  {
   "cell_type": "code",
   "execution_count": 80,
   "id": "d3f0628f",
   "metadata": {},
   "outputs": [
    {
     "name": "stdout",
     "output_type": "stream",
     "text": [
      "Epoch 1/5\n",
      "16/16 [==============================] - 0s 1ms/step - loss: 4.2789 - binary_accuracy: 0.4955\n",
      "Epoch 2/5\n",
      "16/16 [==============================] - 0s 995us/step - loss: 3.9752 - binary_accuracy: 0.4955\n",
      "Epoch 3/5\n",
      "16/16 [==============================] - 0s 957us/step - loss: 3.7254 - binary_accuracy: 0.4950\n",
      "Epoch 4/5\n",
      "16/16 [==============================] - 0s 978us/step - loss: 3.4890 - binary_accuracy: 0.4940\n",
      "Epoch 5/5\n",
      "16/16 [==============================] - 0s 1ms/step - loss: 3.2625 - binary_accuracy: 0.4940\n"
     ]
    },
    {
     "data": {
      "text/plain": [
       "{'loss': [4.278935432434082,\n",
       "  3.975240468978882,\n",
       "  3.72542142868042,\n",
       "  3.489018201828003,\n",
       "  3.2624659538269043],\n",
       " 'binary_accuracy': [0.49549999833106995,\n",
       "  0.49549999833106995,\n",
       "  0.4950000047683716,\n",
       "  0.49399998784065247,\n",
       "  0.49399998784065247]}"
      ]
     },
     "execution_count": 80,
     "metadata": {},
     "output_type": "execute_result"
    }
   ],
   "source": [
    "history = model.fit(\n",
    "    inputs,\n",
    "    targets,\n",
    "    epochs=5,\n",
    "    batch_size=128\n",
    ")\n",
    "history.history"
   ]
  },
  {
   "cell_type": "code",
   "execution_count": 81,
   "id": "1ecd7ce1",
   "metadata": {},
   "outputs": [
    {
     "name": "stdout",
     "output_type": "stream",
     "text": [
      "Epoch 1/5\n",
      "88/88 [==============================] - 0s 2ms/step - loss: 0.1713 - binary_accuracy: 0.9664 - val_loss: 0.0278 - val_binary_accuracy: 0.9983\n",
      "Epoch 2/5\n",
      "88/88 [==============================] - 0s 1ms/step - loss: 0.0643 - binary_accuracy: 0.9650 - val_loss: 0.0448 - val_binary_accuracy: 0.9967\n",
      "Epoch 3/5\n",
      "88/88 [==============================] - 0s 1ms/step - loss: 0.0705 - binary_accuracy: 0.9671 - val_loss: 0.0862 - val_binary_accuracy: 0.9800\n",
      "Epoch 4/5\n",
      "88/88 [==============================] - 0s 1ms/step - loss: 0.0700 - binary_accuracy: 0.9607 - val_loss: 0.0690 - val_binary_accuracy: 0.9700\n",
      "Epoch 5/5\n",
      "88/88 [==============================] - 0s 1ms/step - loss: 0.0727 - binary_accuracy: 0.9564 - val_loss: 0.0308 - val_binary_accuracy: 1.0000\n"
     ]
    },
    {
     "data": {
      "text/plain": [
       "<keras.callbacks.History at 0x187942e3c70>"
      ]
     },
     "execution_count": 81,
     "metadata": {},
     "output_type": "execute_result"
    }
   ],
   "source": [
    "\n",
    "model = keras.Sequential([keras.layers.Dense(1)])\n",
    "model.compile(optimizer=keras.optimizers.RMSprop(learning_rate=0.1),\n",
    "              loss=keras.losses.MeanSquaredError(),\n",
    "              metrics=[keras.metrics.BinaryAccuracy()])\n",
    "\n",
    "indices_permutation = np.random.permutation(len(inputs))\n",
    "shuffled_inputs = inputs[indices_permutation]\n",
    "shuffled_targets = targets[indices_permutation]\n",
    "\n",
    "num_validation_samples = int(0.3 * len(inputs))\n",
    "val_inputs = shuffled_inputs[:num_validation_samples]\n",
    "val_targets = shuffled_targets[:num_validation_samples]\n",
    "training_inputs = shuffled_inputs[num_validation_samples:]\n",
    "training_targets = shuffled_targets[num_validation_samples:]\n",
    "model.fit(\n",
    "    training_inputs,\n",
    "    training_targets,\n",
    "    epochs=5,\n",
    "    batch_size=16,\n",
    "    validation_data=(val_inputs, val_targets)\n",
    ")"
   ]
  },
  {
   "cell_type": "code",
   "execution_count": 82,
   "id": "479166ef",
   "metadata": {},
   "outputs": [
    {
     "name": "stdout",
     "output_type": "stream",
     "text": [
      "5/5 [==============================] - 0s 1ms/step\n",
      "[[0.22931719]\n",
      " [0.77056634]\n",
      " [0.74195725]\n",
      " [0.7361597 ]\n",
      " [0.88110423]\n",
      " [0.743553  ]\n",
      " [0.8900697 ]\n",
      " [0.64771795]\n",
      " [0.8007355 ]\n",
      " [0.9807328 ]]\n"
     ]
    }
   ],
   "source": [
    "predictions = model.predict(val_inputs, batch_size=128)\n",
    "print(predictions[:10])"
   ]
  },
  {
   "cell_type": "code",
   "execution_count": 83,
   "id": "fa5ea29d",
   "metadata": {},
   "outputs": [
    {
     "name": "stdout",
     "output_type": "stream",
     "text": [
      "Model: \"sequential_13\"\n",
      "_________________________________________________________________\n",
      " Layer (type)                Output Shape              Param #   \n",
      "=================================================================\n",
      " dense_16 (Dense)            (None, 1)                 3         \n",
      "                                                                 \n",
      "=================================================================\n",
      "Total params: 3\n",
      "Trainable params: 3\n",
      "Non-trainable params: 0\n",
      "_________________________________________________________________\n"
     ]
    },
    {
     "data": {
      "image/png": "[encoded data removed]",
      "text/plain": [
       "<IPython.core.display.Image object>"
      ]
     },
     "execution_count": 83,
     "metadata": {},
     "output_type": "execute_result"
    }
   ],
   "source": [
    "from tensorflow.keras.utils import plot_model\n",
    "model.summary()\n",
    "\n",
    "plot_model(model, \n",
    "    show_shapes= True,\n",
    "    expand_nested=True\n",
    ")\n",
    "# plot_model??"
   ]
  },
  {
   "cell_type": "code",
   "execution_count": null,
   "id": "2bbb3c5d",
   "metadata": {},
   "outputs": [],
   "source": []
  },
  {
   "cell_type": "code",
   "execution_count": null,
   "id": "939b7eee",
   "metadata": {},
   "outputs": [],
   "source": []
  },
  {
   "cell_type": "code",
   "execution_count": null,
   "id": "599f95c8",
   "metadata": {},
   "outputs": [],
   "source": []
  }
 ],
 "metadata": {
  "kernelspec": {
   "display_name": "Python 3 (ipykernel)",
   "language": "python",
   "name": "python3"
  },
  "language_info": {
   "codemirror_mode": {
    "name": "ipython",
    "version": 3
   },
   "file_extension": ".py",
   "mimetype": "text/x-python",
   "name": "python",
   "nbconvert_exporter": "python",
   "pygments_lexer": "ipython3",
   "version": "3.9.7"
  }
 },
 "nbformat": 4,
 "nbformat_minor": 5
}
